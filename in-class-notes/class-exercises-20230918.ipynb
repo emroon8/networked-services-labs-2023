{
 "cells": [
  {
   "cell_type": "markdown",
   "metadata": {},
   "source": [
    "# Class Exercises\n",
    "\n",
    "_Notes & Demos for Class 18 September 2023_\n",
    "\n",
    "In markdown cells, you can use markdown syntax for presenting basic text formatting,\n",
    "like headings, lists, code blocks, etc.\n",
    "\n",
    "## This is a list\n",
    "\n",
    "* List item 1\n",
    "* List item 2"
   ]
  },
  {
   "cell_type": "code",
   "execution_count": 1,
   "metadata": {},
   "outputs": [],
   "source": [
    "import re"
   ]
  },
  {
   "cell_type": "markdown",
   "metadata": {},
   "source": [
    "Regular expressions are used on the command shell, most frequently with commands lik `grep`. For example, you can use them to search for email addresses within a file: \n",
    "\n",
    "```bash\n",
    "grep -Eo '([A-Za-z0-9\\.-]+)@([A-Za-z0-9\\.-]+\\.)([a-z]{2,4})' data/emails/mbox-short.txt\n",
    "```\n",
    "\n",
    "Now, let's adapt this to python... first, you need to create and store the expression. Regex is an older style of language, and it comes from the days when it needed to be compiled by the processor before it was used. So, to run the regex in python, the command is `.compile(r'regex_pattern')`. Then, this pattern can be assigned to a variable and reused. "
   ]
  },
  {
   "cell_type": "code",
   "execution_count": null,
   "metadata": {},
   "outputs": [],
   "source": [
    "# first, you need to create and store the expression"
   ]
  },
  {
   "cell_type": "code",
   "execution_count": null,
   "metadata": {},
   "outputs": [],
   "source": []
  }
 ],
 "metadata": {
  "kernelspec": {
   "display_name": "base",
   "language": "python",
   "name": "python3"
  },
  "language_info": {
   "codemirror_mode": {
    "name": "ipython",
    "version": 3
   },
   "file_extension": ".py",
   "mimetype": "text/x-python",
   "name": "python",
   "nbconvert_exporter": "python",
   "pygments_lexer": "ipython3",
   "version": "3.9.12"
  },
  "orig_nbformat": 4
 },
 "nbformat": 4,
 "nbformat_minor": 2
}
