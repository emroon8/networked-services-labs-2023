{
 "cells": [
  {
   "attachments": {},
   "cell_type": "markdown",
   "metadata": {},
   "source": [
    "1. What function do you use in Python to create a regex pattern?\n",
    "2. What does the re .search() method return?\n",
    "3. How can you display or return the strings that are matched? (The use fo group can be a bit unexpected in the implementation of this python library.)\n",
    "4. The findall() method can return a list of strings or a list of tuples. Why would it return one or the other?\n",
    "5. The finditer() method allows you to loop through the match string and do something for each return. Write a block of code that searches the contents of the mbox-short.txt file to identify IP addresses, then writes each to file called ip-addresses.txt. Add the output file to your repo with the notebook."
   ]
  },
  {
   "attachments": {},
   "cell_type": "markdown",
   "metadata": {},
   "source": [
    "1. re.comple()\n",
    "2. The re.search() method returns the first match for the regext in the string you are searching.\n",
    "3. To display or return the the strings that are matched you should print the match object.\n",
    "4. If there are no groups in the regex pattern finall() will return a list of strings. If gropus have been defined it will return a list of tuples."
   ]
  },
  {
   "cell_type": "code",
   "execution_count": 27,
   "metadata": {},
   "outputs": [],
   "source": [
    "#5.\n",
    "import re\n",
    "import os\n",
    "\n",
    "search_string = open('/Users/emmarooney/Desktop/SCHOOL/UMICH/GRAD_SCHOOL/networked-services-labs-2023/data/emails/mbox-short.txt', 'r')\n",
    "search_string_r = search_string.read()\n",
    "\n",
    "ip_add_finder = re.compile(r'\\d{1,3}\\.\\d{1,3}\\.\\d{1,3}\\.\\d{1,3}')\n",
    "\n",
    "mo = re.finditer(ip_add_finder, search_string_r)\n",
    "\n",
    "fout = open('ip-addresses.txt', 'w')\n",
    "for match in mo:\n",
    "    # print(match)\n",
    "    fout.write(match.group())\n",
    "fout.close()\n"
   ]
  }
 ],
 "metadata": {
  "kernelspec": {
   "display_name": "Python 3",
   "language": "python",
   "name": "python3"
  },
  "language_info": {
   "codemirror_mode": {
    "name": "ipython",
    "version": 3
   },
   "file_extension": ".py",
   "mimetype": "text/x-python",
   "name": "python",
   "nbconvert_exporter": "python",
   "pygments_lexer": "ipython3",
   "version": "3.10.6"
  },
  "orig_nbformat": 4
 },
 "nbformat": 4,
 "nbformat_minor": 2
}
